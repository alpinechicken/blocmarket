{
 "cells": [
  {
   "cell_type": "markdown",
   "metadata": {},
   "source": [
    "# Protocol for a distributed synthetic market\n",
    "\n",
    "This is a protocol for matching **state contingent contracts** that give a payoff linear between an upper and lower bound and at a particular expiry.\n",
    "\n",
    "<img src=\"img/BFC.png\"  width=500>\n",
    "\n",
    "For example the contract might pay 1 for each 10mm of rainfall above 30mm. If the amount of rainfall is above 30mm the payoff is 1 and if the outcome is below 30mm the outcome is zero.\n",
    "\n",
    "These contracts can be combined to construct standard forward and option contracts or event markets (payoffs depending on a discrete set of outcomes). \n",
    "\n",
    "<img src=\"img/StackedBFC.png\" width=500>\n",
    "\n",
    "The protocol uses a chain of signatures to organize buy and sell orders for these contracts. Orders are accepted if they have a valid signature and the trader's positions satisfiy a collateral check across all possible worst outcomes. To maintain an appropriate record of the order book, trades can only be added, and the validity of any trade can be checked by anyone using public keys provided by each participant.\n",
    "\n",
    "Markets are settled by the market owner adding a new equal upper and lower bound for a market. For example, the lower bound for each market is the highest lower bound for itself of  any sub-market or any previous bound on the same market. Market bounds *telescope*, making a market the *underlying asset* of its sub-markets. \n",
    "\n",
    "<img src=\"img/marketBounds.png\" width=600>\n"
   ]
  },
  {
   "cell_type": "markdown",
   "metadata": {},
   "source": [
    "## Data structures\n",
    "\n",
    "### A market\n",
    "\n",
    "A **market** is defined by:\n",
    "\n",
    "- `marketRootId`: (integer) market id\n",
    "- `marketBranchId`: (integer) sub-markets >1 (sub-markets bounded by super-markets)\n",
    "- `marketMin` - (float) minimum possible outcome\n",
    "- `marketMax` - (float) maximum possible outcome\n",
    "- `traderId` - (integer) market owner trader ID\n",
    "- `previousSig`- (bytes) previous market signature\n",
    "- `signatureMsg` - (bytes) message for signature\n",
    "- `signature` - (bytes) signed message\n",
    "- `timeStampUTC` - (datetime) timestamp\n",
    "- `timeStampUTCSignature` - (bytes) timestamp signature\n",
    "\n",
    "E.g.\n",
    "\n",
    "For an **event market** let:\n",
    "\n",
    "- Outcome = 0: Event has not happened\n",
    "- Outcome = 10000: Event has happened\n",
    "\n",
    "Then if the price of the contract is 5100 this is consistent with a 51% probability that the event happens.\n",
    "\n",
    "\n",
    "Market with (root = 3, branch = 1); market bounded between (0, 10000); owned by trader 1 and signed with signature 'sig1'.\n",
    "\n",
    "~~~~\n",
    "\n",
    "testMarket = {'marketRootId': 3,\n",
    " 'marketBranchId': 1,\n",
    " 'marketMin': 0,\n",
    " 'marketMax': 10000,\n",
    " 'traderId': 1,\n",
    " 'previousSig': '<xxx>',\n",
    " 'signatureMsg': '<xxx>',\n",
    " 'signature': '<xxx>',\n",
    " 'timeStampUTC: '<time stamp>',\n",
    " 'timeStampUTCSignature': '<signature>'}}\n",
    "\n",
    "~~~~\n",
    "\n",
    "- Sub markets have `marketMin`/`marketMax` bounded by markets with the same root but lower branch id.\n",
    "- Any amount of valid markets with the same root/branch can be added and the market will take the highest minimum and the lowest maximum.\n",
    "- If the minimum is equal to the maximum the market is settled.\n",
    "\n",
    "\n"
   ]
  },
  {
   "cell_type": "markdown",
   "metadata": {},
   "source": [
    "\n",
    "### An order\n",
    "\n",
    "An **order** in a market is defined by:\n",
    "\n",
    " - `tradeId`: (integer) trade id\n",
    " - `price`:  (float) price of trade\n",
    " - `quantity`:  (float) quanitity of trade (positive quantity for bids, negative for offers) \n",
    " - `marketRootId` : (integer) market id\n",
    " - `marketBranchId`: (integer) sub-markets > 1 (sub-markets bounded by super-markets)\n",
    " - `traderId`:  (integer) trade owner trader ID\n",
    " - `previousSig`: (bytes) previous trade signature\n",
    " - `signatureMsg` - (bytes) message for signature\n",
    " - `signature`: (bytes) signed message\n",
    " - `timeStampUTC`: (datetime)  UTC timestamp,\n",
    " - `timeStampUTCSignature` : Timestamp signed by time server.\n",
    " - `iMatched` - (logical) is trade matched\n",
    " - `iRemoved` - (logical) is trade removed\n",
    " \n",
    "E.g. \n",
    "\n",
    "Unmatched primary trade (`price = 5000`, `quantity = 10`) on market (`marketRootId = 1`, `marketBranchId = 1`)\n",
    "\n",
    "~~~~\n",
    "\n",
    "testTrade = {'traderId': 1,\n",
    " 'price': 5000,\n",
    " 'quantity': 10,\n",
    " 'marketRootId': 3,\n",
    " 'marketBranchId': 1,\n",
    " 'signatureMsg': '<xxx>',\n",
    " 'signature': '<xxx>',\n",
    " 'timeStampUTC: '<time stamp>',\n",
    " 'timeStampUTCSignature': '<signature>'}}\n",
    "\n",
    "~~~~\n",
    "\n",
    "\n",
    "Trades can be added to the order book but not removed or changed. The flag `iMatched` is set if a match in the same market with an opposite sign and the flag `iRemoved` is set if the matching of an order causes other open orders to breach the maximum allowed collolateral. The `tradeId` is generated automatically.\n",
    "\n",
    "Trades include a UTC timestamp (`timeStampUTC`) with a signature (`timeStampUTCSignature`) signed by a time server. This establishes the order of trades, trades with with earlier timestamps are not accepted to the chain.\n",
    "\n",
    "\n"
   ]
  },
  {
   "cell_type": "markdown",
   "metadata": {},
   "source": [
    "# Methods\n",
    "\n",
    "Add a new user to the table by storing their public key. This verifies signatures on markets and trades.\n",
    "\n",
    "## Method: createUser(user)\n",
    "\n",
    "\n",
    "### Inputs\n",
    "\n",
    "~~~~\n",
    "\n",
    "user = {'verifyKey': '<key>'};\n",
    "\n",
    "~~~~\n",
    "\n",
    "- `verifyKey` is a unique public key for a user.\n",
    "\n",
    "### Checks\n",
    "\n",
    "- `verifyKey` doesn't exist in the user table\n",
    "\n",
    "### Process\n",
    "\n",
    "- Add user to table (new `traderId`  = previous `traderId` +1)"
   ]
  },
  {
   "cell_type": "markdown",
   "metadata": {},
   "source": [
    "## Method: createmarket(market)\n",
    "\n",
    "Create a new market or alter the bounds on an existing market\n",
    "\n",
    "### Inputs\n",
    "\n",
    "~~~~\n",
    "\n",
    "market = {'marketRootId': 3,\n",
    " 'marketBranchId': 1,\n",
    " 'marketMin': 0,\n",
    " 'marketMax': 10000,\n",
    " 'traderId': 1,\n",
    " 'signatureMsg': '<message>',\n",
    " 'signature': '<signature>'\n",
    " 'timeStampUTC: '<time stamp>',\n",
    " 'timeStampUTCSignature': '<signature>'}\n",
    "\n",
    "~~~~\n",
    "\n",
    "- `marketRootId`,`marketBranchId` - root and branch number\n",
    "- `marketMin`,`marketMax` - maximum and minimum possible values\n",
    "- `traderId` - id of trader who is entitled to change the market\n",
    "- `previousSig`,`signatureMsg`,`signature` - chain of signatures\n",
    "\n",
    "### Checks\n",
    "\n",
    "- If market alread exists, it is owned by the trader\n",
    "- New market is chained to the correct previous market\n",
    "* If marketBranchId = 1, market should be chained to the previous root market\n",
    "* If marketBranchId >1, market  should be chained to the previous market on the same root market\n",
    "- Signature is correct (`signature` is the correct hash of `signatureMsg` using the `verifyKey` matching to the `traderId`)\n",
    "- `marketMin` < `marketMax`\n",
    "- The timestamp is later than current maximum in the order chain.\n",
    "- The timestamp signature is valid\n",
    "\n",
    "### Process\n",
    "- Add new market to the market table\n",
    "- Construct all possible final combinations of root markets in `outcomeCombinations`"
   ]
  },
  {
   "cell_type": "markdown",
   "metadata": {},
   "source": [
    "## Method: createTrade()\n",
    "\n",
    "Add trade to order book and cache after checking trade is valid.\n",
    "\n",
    "### Inputs\n",
    "\n",
    "~~~~\n",
    "\n",
    "trade = {'traderId': 1, 'price': 5000, 'quantity': 1, 'marketRootId': 3,\n",
    "                'marketBranchId': 1, 'previousSig': '<previous signature>', signatureMsg':\n",
    "                '<message>', 'signature': '<signature>', 'timeStampUTC': '<time stamp>',\n",
    "                 'timeStampUTCSignature': '<signature>'}\n",
    "\n",
    "\n",
    "~~~~\n",
    "\n",
    "- `traderId`: trader Id\n",
    "- `price`, `quantity`: price and quantity\n",
    "- `marketRootId`, `marketBranchId`: market root  and branch (marketBranchId>1 are submarkets) \n",
    "- `previousSig`, `signatureMsg`, `signature`: signature chain from previous trade\n",
    "- `'timeStampUTC'`, `timeStampUTCSignature`: timestamps and signatures\n",
    "\n",
    "\n",
    "### Checks\n",
    "\n",
    "\n",
    "### Valid market checks\n",
    "- `marketRootId` and `marketBranchId` combination exists in in the market table\n",
    "\n",
    "### Signature and chain checks\n",
    "\n",
    "- Trade is validly signed (check with public key)\n",
    "- Trade is validly chained to previously valid trade (furtherst branch on the largest root (tree))\n",
    "- Trade timestamp is later than most recent in the chain.\n",
    "- Timstamp signature is valid (using registered public key for time server)\n",
    "- Collateral checks pass if the trader will have sufficient collateral for this new trade in the worst possible outcome (see **checkCollateral**)\n",
    "\n",
    "### Process\n",
    "\n",
    "(if all checks  pass)\n",
    "\n",
    "- Check if any bids and offers match and set `iMatched = True` for these pairs. Recheck collateral and if it now fails set `iRemoved=True` for open trades until collateral check passes. These removed trades will be ignored for collateral calculation.\n",
    "\n"
   ]
  },
  {
   "cell_type": "markdown",
   "metadata": {},
   "source": [
    "\n",
    "## Method: checkCollateral(trade)\n",
    "\n",
    "Check there is sufficient collateral for trade in the worst possible outcome.\n",
    "\n",
    "### Inputs\n",
    "\n",
    "~~~\n",
    "\n",
    "testTrade = {'traderId': 1,\n",
    " 'price': 5000,\n",
    " 'quantity': 10,\n",
    " 'marketRootId': 3,\n",
    " 'marketBranchId': 1}\n",
    "\n",
    "\n",
    "~~~\n",
    "\n",
    "### Checks\n",
    "\n",
    "### Process\n",
    "\n",
    "#### Outcome combinations\n",
    "\n",
    "- Construct all extreme cominations of root market outcomes where trader is active (**constructOutputCombinations(markets)**)\n",
    "\n",
    "#### Payoffs \n",
    "\n",
    "For each outcome combination:\n",
    "\n",
    "- Construct payoffs for existing matched trades (**constructPayoffs(orderBook, marketTable)**)\n",
    "- Construct payoffs for existing open trades\n",
    "- Construct payoffs for new trade\n",
    "\n",
    "Net collateral = sum(matchedTradePayoffs) + min(openTradePayoffs, newTradePayoff) \n",
    "\n",
    "Collateral check passes if all elements of net collateral > 0\n",
    "\n",
    "\n",
    "\n",
    "\n"
   ]
  },
  {
   "cell_type": "markdown",
   "metadata": {},
   "source": [
    "### Matrix representation collateral calculation\n",
    "\n",
    "The possible set of extreme root market outcomes is a $C \\times N$ matrix $\\mathbf{M}$ where $C$ is the number of possible market states and $N$ is the number of markets.\n",
    "\n",
    "At some point in time there are a set of $T$ trades with prices and quantities $\\vec{p} = (p_1 , \\ldots, p_T)$ and $\\vec{q} = (q_1 , \\ldots, q_T)$.\n",
    "\n",
    "The net collateral available to $D$ traders in any one of $C$ market states is:\n",
    "\n",
    "$\\underset{C \\times D} {\\mathbf{NC} } = (\\mathbf{M}^* - \\mathbf{P}^*)\\mathbf{Q_D}$\n",
    "\n",
    "\n",
    "Where\n",
    "\n",
    "$\\underset{C \\times T}{ \\mathbf{M}^*} = \\underset{C \\times N }{\\mathbf{M} } \\underset{N \\times T}{\\mathbf{I}^M}$\n",
    "\n",
    "$\\underset{C \\times T}{\\mathbf{Q_C}} = \\underset{C \\times T}{\\begin{bmatrix}\n",
    "           \\vec{q} \\\\\n",
    "           \\vec{q} \\\\\n",
    "           \\vdots \\\\\n",
    "           \\vec{q}\n",
    "         \\end{bmatrix}}$\n",
    "         \n",
    "$\\underset{T \\times D}{\\mathbf{Q_D}} = \\underset{T \\times D}{[\n",
    "           \\vec{q}' \n",
    "           \\vec{q}'\n",
    "           \\ldots \n",
    "           \\vec{q}'\n",
    "         ]}$\n",
    "\n",
    "$\\underset{T \\times D} {\\mathbf{Q_D}^* } = \\underset{T \\times D } {\\mathbf{Q_D}}  \\circ \\underset{T \\times D}{\\mathbf{I}^Q }$\n",
    "\n",
    "$\\underset{C \\times T}{\\mathbf{P}^*} = \\underset{C \\times T}{\\begin{bmatrix}\n",
    "           \\vec{p} \\\\\n",
    "           \\vec{p} \\\\\n",
    "           \\vdots \\\\\n",
    "           \\vec{p}\n",
    "         \\end{bmatrix}}$\n",
    "         \n",
    "\n",
    "\n",
    "Two indicator matricies have $I^{M}_{it} = 1$ if trade $t$ is in market $i$ and $I^{Q}_{td} = 1$ if trade $t$ belongs to trader $d$.\n",
    "\n",
    "\n",
    "\n",
    "$$\n",
    "\\def \\vp{\n",
    "    \\begin{bmatrix}\n",
    "           \\vec{p} \\\\\n",
    "           \\vec{p} \\\\\n",
    "           \\vdots \\\\\n",
    "           \\vec{p}\n",
    "         \\end{bmatrix}}\n",
    "$$\n",
    "\n",
    "A similar calculation gives the net collateral for each trade in each state:\n",
    "\n",
    "$\\underset{C \\times T} {\\mathbf{NC}^* } = (\\mathbf{M}^* - \\mathbf{P}^*) \\circ \\mathbf{Q_C}$\n",
    "\n",
    "Where $\\circ$ is elementwise mulitplication. This is be convenient for determining worst trade outcome for each state when considering unmatched trades.\n",
    "\n",
    "\n",
    "\n",
    "#### Example\n",
    "\n",
    "Number of traders $D$ = 2\n",
    "Number of markets $N$ = 2 (Outcomes between 0 and 1)\n",
    "\n",
    "Trades:\n",
    "- Trader 1: (1, 5000) in market 1\n",
    "- Trader 1: (2, 4000) in market 2\n",
    "- Trader 2: (-1, 9000) in market 2\n",
    "\n",
    "Number of states $C$ = 4\n",
    "\n",
    "The state of the market is represented by the four possible  extreme outcomes:\n",
    "\n",
    "$$\n",
    "\\mathbf{M}=\n",
    "\\begin{bmatrix}\n",
    "    0       & 10000  \\\\\n",
    "    10000       & 0  \\\\\n",
    "    0      & 0 \\\\\n",
    "    10000      & 10000\n",
    "\\end{bmatrix}\n",
    "$$\n",
    "\n",
    "The prices and quantities are arranged in a vector:\n",
    "\n",
    "$$\\vec{p} = [5000, 4000 , 9000]$$\n",
    "\n",
    "\n",
    "$$\\vec{q} = [1, 2 ,-1]$$\n",
    "\n",
    "\n",
    "The market indicator matrix tracks which market each trade belongs to\n",
    "\n",
    "$$\n",
    "\\mathbf{I^M}=\n",
    "\\begin{bmatrix}\n",
    "    1       & 0 & 0  \\\\\n",
    "    0       & 1 & 1\n",
    "\\end{bmatrix}\n",
    "$$\n",
    "\n",
    "The trade indicator matrix tracks which trader each trade belongs to\n",
    "\n",
    "\n",
    "\n",
    "$$\n",
    "\\mathbf{I^Q}=\n",
    "\\begin{bmatrix}\n",
    "    1       & 0 \\\\\n",
    "    1       & 0 \\\\\n",
    "    0       & 1 \\\\\n",
    "\\end{bmatrix}\n",
    "$$\n",
    "\n",
    "\n",
    "Now calculate\n",
    "\n",
    "\n",
    "$\\mathbf{M}^* = \\mathbf{M} \\mathbf{I}^M =\n",
    "\\begin{bmatrix}\n",
    "    0       & 10000 & 10000  \\\\\n",
    "    10000       & 0 & 0  \\\\\n",
    "    0       & 0 & 0  \\\\\n",
    "    10000       & 10000 & 10000\n",
    "\\end{bmatrix}\n",
    "$\n",
    "\n",
    "$\\mathbf{Q_C} = \\begin{bmatrix}\n",
    "    1       & 2 & -1  \\\\\n",
    "    1       & 2 & -1  \\\\\n",
    "    1       & 2 & -1  \\\\\n",
    "    1       & 2 & -1  \\\\\n",
    "\\end{bmatrix} $\n",
    "\n",
    "$\\mathbf{Q_D}^* = \\begin{bmatrix}\n",
    "    1       & 1   \\\\\n",
    "    2       & 2   \\\\\n",
    "    -1       & -1  \\\\\n",
    "\\end{bmatrix} \\circ \\mathbf{I}^Q  = \\begin{bmatrix}\n",
    "    1       & 0  \\\\\n",
    "    2       & 0  \\\\\n",
    "    0       & -1 \\\\\n",
    "\\end{bmatrix} $\n",
    "\n",
    "$\\mathbf{P}^* = \\begin{bmatrix}\n",
    "    5000       & 4000 & 9000  \\\\\n",
    "    5000       & 4000 & 9000  \\\\\n",
    "    5000       & 4000 & 9000  \\\\\n",
    "    5000      & 4000 & 9000  \\\\\n",
    "\\end{bmatrix} $\n",
    "\n",
    "The net collateral is\n",
    "\n",
    "\n",
    "$\\mathbf{NC} = (\\mathbf{M}^* - \\mathbf{P}^*)\\mathbf{Q_d}^* = \\begin{bmatrix}\n",
    "    7000       & -1000  \\\\\n",
    "    -3000       & 9000 \\\\\n",
    "    -13000       & 9000  \\\\\n",
    "    17000       & 1000\n",
    "\\end{bmatrix}  $\n",
    "\n",
    "\n",
    "\n",
    "The columns of the matrix are the collateral outcomes for each of the two traders in the four possible states.\n",
    "\n",
    "```matlab\n",
    "M = [0 1; 1 0; 0 0; 1 1]\n",
    "p = [5000 ,4000, 9000]\n",
    "q = [1, 2, -1]\n",
    "IM = [1 0 0;0 1 1] % Convert from marketId [1 2 2]\n",
    "IQ = [1 0;1 0;0 1] % Convert from traderId [1 1 2]\n",
    "Mstar = M*IM\n",
    "Qstar = [q',q'].*IQ\n",
    "Pstar = [p;p;p;p]\n",
    "NC = (Mstar - Pstar)*Qstar\n",
    "```\n",
    "\n"
   ]
  },
  {
   "cell_type": "markdown",
   "metadata": {},
   "source": [
    "### Collateral example"
   ]
  },
  {
   "cell_type": "code",
   "execution_count": 28,
   "metadata": {},
   "outputs": [],
   "source": [
    "import numpy as np\n",
    "def ind2vec(ind, N=None):\n",
    "    ind = np.asarray(ind)\n",
    "    if N is None:\n",
    "        N = ind.max() + 1\n",
    "    return (np.arange(N) == ind[:, None]).astype(int)"
   ]
  },
  {
   "cell_type": "code",
   "execution_count": 29,
   "metadata": {},
   "outputs": [
    {
     "data": {
      "text/plain": [
       "array([[1, 0],\n",
       "       [0, 1],\n",
       "       [0, 1],\n",
       "       [0, 1],\n",
       "       [0, 1]])"
      ]
     },
     "execution_count": 29,
     "metadata": {},
     "output_type": "execute_result"
    }
   ],
   "source": [
    "ind2vec([0,1,1,1,1],2)"
   ]
  },
  {
   "cell_type": "code",
   "execution_count": 30,
   "metadata": {},
   "outputs": [],
   "source": [
    "# Market outcomes\n",
    "M = np.array([[0,10000], [10000,0], [0,0], [10000, 10000]])\n",
    "C, N = M.shape\n",
    "# prices\n",
    "p = np.array([5000, 4000, 9000])\n",
    "# quantity\n",
    "q = np.array([1, 2, -1])\n",
    "# Market index\n",
    "mInd = np.array([1,2,2])\n",
    "# Trader index\n",
    "tInd = np.array([1,1,2])\n",
    "D = tInd.max()\n"
   ]
  },
  {
   "cell_type": "code",
   "execution_count": 15,
   "metadata": {},
   "outputs": [
    {
     "data": {
      "text/plain": [
       "array([[1, 0, 0],\n",
       "       [0, 1, 1]])"
      ]
     },
     "execution_count": 15,
     "metadata": {},
     "output_type": "execute_result"
    }
   ],
   "source": [
    "IM = ind2vec(mInd-1, N).T\n",
    "IM"
   ]
  },
  {
   "cell_type": "code",
   "execution_count": 16,
   "metadata": {},
   "outputs": [
    {
     "data": {
      "text/plain": [
       "array([[1, 0],\n",
       "       [1, 0],\n",
       "       [0, 1]])"
      ]
     },
     "execution_count": 16,
     "metadata": {},
     "output_type": "execute_result"
    }
   ],
   "source": [
    "IQ = ind2vec(tInd-1, D)\n",
    "IQ"
   ]
  },
  {
   "cell_type": "code",
   "execution_count": 17,
   "metadata": {},
   "outputs": [
    {
     "data": {
      "text/plain": [
       "array([[    0, 10000, 10000],\n",
       "       [10000,     0,     0],\n",
       "       [    0,     0,     0],\n",
       "       [10000, 10000, 10000]])"
      ]
     },
     "execution_count": 17,
     "metadata": {},
     "output_type": "execute_result"
    }
   ],
   "source": [
    "Mstar = np.dot(M, IM)\n",
    "Mstar"
   ]
  },
  {
   "cell_type": "code",
   "execution_count": 18,
   "metadata": {},
   "outputs": [
    {
     "data": {
      "text/plain": [
       "array([[ 1,  2, -1],\n",
       "       [ 1,  2, -1],\n",
       "       [ 1,  2, -1],\n",
       "       [ 1,  2, -1]])"
      ]
     },
     "execution_count": 18,
     "metadata": {},
     "output_type": "execute_result"
    }
   ],
   "source": [
    "QC = np.tile(q, (C,1))\n",
    "QC"
   ]
  },
  {
   "cell_type": "code",
   "execution_count": 19,
   "metadata": {},
   "outputs": [
    {
     "data": {
      "text/plain": [
       "array([[ 1,  1],\n",
       "       [ 2,  2],\n",
       "       [-1, -1]])"
      ]
     },
     "execution_count": 19,
     "metadata": {},
     "output_type": "execute_result"
    }
   ],
   "source": [
    "QD = np.tile(q, (D,1)).T\n",
    "QD"
   ]
  },
  {
   "cell_type": "code",
   "execution_count": 20,
   "metadata": {},
   "outputs": [
    {
     "data": {
      "text/plain": [
       "array([[ 1,  0],\n",
       "       [ 2,  0],\n",
       "       [ 0, -1]])"
      ]
     },
     "execution_count": 20,
     "metadata": {},
     "output_type": "execute_result"
    }
   ],
   "source": [
    "QDstar = QD * IQ\n",
    "QDstar"
   ]
  },
  {
   "cell_type": "code",
   "execution_count": 21,
   "metadata": {},
   "outputs": [
    {
     "data": {
      "text/plain": [
       "array([[5000, 4000, 9000],\n",
       "       [5000, 4000, 9000],\n",
       "       [5000, 4000, 9000],\n",
       "       [5000, 4000, 9000]])"
      ]
     },
     "execution_count": 21,
     "metadata": {},
     "output_type": "execute_result"
    }
   ],
   "source": [
    "Pstar = np.tile(p, (C,1))\n",
    "Pstar"
   ]
  },
  {
   "cell_type": "code",
   "execution_count": 22,
   "metadata": {},
   "outputs": [
    {
     "data": {
      "text/plain": [
       "array([[-5000, 12000, -1000],\n",
       "       [ 5000, -8000,  9000],\n",
       "       [-5000, -8000,  9000],\n",
       "       [ 5000, 12000, -1000]])"
      ]
     },
     "execution_count": 22,
     "metadata": {},
     "output_type": "execute_result"
    }
   ],
   "source": [
    "NCstar = (Mstar-Pstar)* QC\n",
    "NCstar"
   ]
  },
  {
   "cell_type": "code",
   "execution_count": 23,
   "metadata": {},
   "outputs": [
    {
     "data": {
      "text/plain": [
       "array([[  7000,  -1000],\n",
       "       [ -3000,   9000],\n",
       "       [-13000,   9000],\n",
       "       [ 17000,  -1000]])"
      ]
     },
     "execution_count": 23,
     "metadata": {},
     "output_type": "execute_result"
    }
   ],
   "source": [
    "NC = np.dot((Mstar - Pstar), QDstar)\n",
    "NC"
   ]
  },
  {
   "cell_type": "markdown",
   "metadata": {},
   "source": [
    "### Colateral condition for matched and unmatched trades\n",
    "\n",
    "Total collateral is the net collateral for all matched trades plus the worst collateral outcome from unmatched trades. The **total collateral** calculation is:\n",
    "\n",
    "$\\underset{C\\times D}{\\mathbf{TC}} = \\mathbf{NC}_{matched} + \\min_D(\\mathbf{NC}_{unmatched}^*) = \\sum \\mathbf{NC}_{matched}^* + \\min_D(\\mathbf{NC}_{unmatched}^*)  $ \n",
    "\n",
    "Where *matched* are trades with exact offsetting trades and each column of $\\min_D()$ is the minimum in each state along the rows of $\\mathbf{NC}_{unmatched}^*$ consisting only of trader $d$'s trades. \n",
    "\n",
    "In the preceeding example no trades are matched so the"
   ]
  },
  {
   "cell_type": "code",
   "execution_count": 24,
   "metadata": {},
   "outputs": [
    {
     "data": {
      "text/plain": [
       "array([-5000,  5000, -5000,  5000])"
      ]
     },
     "execution_count": 24,
     "metadata": {},
     "output_type": "execute_result"
    }
   ],
   "source": [
    "# Split out matched and unmatched trades\n",
    "iMatched = np.array([True, False, False])\n",
    "NCstar_matched = NCstar[:, np.where(iMatched)].squeeze()\n",
    "NCstar_matched\n",
    "\n"
   ]
  },
  {
   "cell_type": "code",
   "execution_count": 25,
   "metadata": {},
   "outputs": [
    {
     "data": {
      "text/plain": [
       "array([[12000, -1000],\n",
       "       [-8000,  9000],\n",
       "       [-8000,  9000],\n",
       "       [12000, -1000]])"
      ]
     },
     "execution_count": 25,
     "metadata": {},
     "output_type": "execute_result"
    }
   ],
   "source": [
    "NCstar_unmatched = NCstar[:, np.where( np.logical_not(iMatched))].squeeze()\n",
    "NCstar_unmatched"
   ]
  },
  {
   "cell_type": "code",
   "execution_count": 26,
   "metadata": {},
   "outputs": [
    {
     "data": {
      "text/plain": [
       "1"
      ]
     },
     "execution_count": 26,
     "metadata": {},
     "output_type": "execute_result"
    }
   ],
   "source": [
    "NCstar_matched.ndim"
   ]
  },
  {
   "cell_type": "code",
   "execution_count": 27,
   "metadata": {},
   "outputs": [
    {
     "data": {
      "text/plain": [
       "array([ -6000,  -3000, -13000,   4000])"
      ]
     },
     "execution_count": 27,
     "metadata": {},
     "output_type": "execute_result"
    }
   ],
   "source": [
    "# Stupid python won't sum/min along axis=1 of array\n",
    "if NCstar_matched.ndim <=1 and NCstar_unmatched.ndim <=1:   \n",
    "    TC = NCstar_matched + NCstar_unmatched\n",
    "elif NCstar_matched.ndim <=1 and NCstar_unmatched.ndim >1:\n",
    "    TC = NCstar_matched + np.min(NCstar_unmatched, axis=1)\n",
    "elif NCstar_matched.ndim >1 and NCstar_unmatched.ndim <=1:\n",
    "    TC = np.sum(NCstar_matched, axis=1) + NCstar_unmatched\n",
    "else:\n",
    "    TC = np.sum(NCstar_matched, axis=1) + np.min(NCstar_unmatched, axis=1)\n",
    "    \n",
    "TC"
   ]
  },
  {
   "cell_type": "code",
   "execution_count": null,
   "metadata": {},
   "outputs": [],
   "source": []
  }
 ],
 "metadata": {
  "kernelspec": {
   "display_name": "Python 3",
   "language": "python",
   "name": "python3"
  },
  "language_info": {
   "codemirror_mode": {
    "name": "ipython",
    "version": 3
   },
   "file_extension": ".py",
   "mimetype": "text/x-python",
   "name": "python",
   "nbconvert_exporter": "python",
   "pygments_lexer": "ipython3",
   "version": "3.7.6"
  }
 },
 "nbformat": 4,
 "nbformat_minor": 4
}
