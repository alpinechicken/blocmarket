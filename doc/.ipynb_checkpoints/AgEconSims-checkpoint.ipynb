{
 "cells": [
  {
   "cell_type": "code",
   "execution_count": 97,
   "metadata": {},
   "outputs": [],
   "source": [
    "import numpy as np\n",
    "from scipy.optimize import minimize, Bounds\n",
    "import matplotlib.pyplot as plt\n",
    "from mpl_toolkits.mplot3d import Axes3D"
   ]
  },
  {
   "cell_type": "code",
   "execution_count": 207,
   "metadata": {},
   "outputs": [],
   "source": [
    "# Objective function for spot/cp arbitrageur\n",
    "def spot_arb_objective(x, mp, R_alpha, R_beta):\n",
    "    d_alpha_spot = x[0]\n",
    "    # Beta from spot market\n",
    "    d_beta_spot = d_alpha_spot*mp\n",
    "    # Beta from cp market\n",
    "    d_beta_cp = R_alpha*R_beta/(R_alpha+d_alpha_spot)-R_beta\n",
    "    # return given function negative (profit positive)\n",
    "    return (d_beta_cp+d_beta_spot) *1*((d_beta_cp+d_beta_spot)<0)\n",
    "\n"
   ]
  },
  {
   "cell_type": "code",
   "execution_count": 208,
   "metadata": {},
   "outputs": [
    {
     "data": {
      "text/plain": [
       "35.23809523809524"
      ]
     },
     "execution_count": 208,
     "metadata": {},
     "output_type": "execute_result"
    }
   ],
   "source": [
    "x0 =  [1000]\n",
    "arb_objective(x0, 0.04, 20000, 100)"
   ]
  },
  {
   "cell_type": "code",
   "execution_count": 209,
   "metadata": {},
   "outputs": [],
   "source": [
    "sol = minimize(spot_arb_objective, x0, args=(0.004, 20000, 100))"
   ]
  },
  {
   "cell_type": "code",
   "execution_count": 203,
   "metadata": {},
   "outputs": [
    {
     "data": {
      "text/plain": [
       "      fun: -1.1145597330319\n",
       " hess_inv: array([[2643985.66692501]])\n",
       "      jac: array([-1.66893005e-06])\n",
       "  message: 'Optimization terminated successfully.'\n",
       "     nfev: 42\n",
       "      nit: 4\n",
       "     njev: 14\n",
       "   status: 0\n",
       "  success: True\n",
       "        x: array([2357.28079859])"
      ]
     },
     "execution_count": 203,
     "metadata": {},
     "output_type": "execute_result"
    }
   ],
   "source": [
    "sol"
   ]
  },
  {
   "cell_type": "code",
   "execution_count": null,
   "metadata": {},
   "outputs": [],
   "source": []
  }
 ],
 "metadata": {
  "kernelspec": {
   "display_name": "Python 3",
   "language": "python",
   "name": "python3"
  },
  "language_info": {
   "codemirror_mode": {
    "name": "ipython",
    "version": 3
   },
   "file_extension": ".py",
   "mimetype": "text/x-python",
   "name": "python",
   "nbconvert_exporter": "python",
   "pygments_lexer": "ipython3",
   "version": "3.8.1"
  }
 },
 "nbformat": 4,
 "nbformat_minor": 4
}
